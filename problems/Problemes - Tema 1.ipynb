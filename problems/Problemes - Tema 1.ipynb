{
 "cells": [
  {
   "cell_type": "markdown",
   "metadata": {},
   "source": [
    "# Problemes Tema 1\n",
    "\n",
    "A entregar a través del campus virtual abans del dia 30/9/2020 a les 9:00 del matí. **Les trameses posteriors a aquesta data i hora no s'avaluaran.**\n",
    "\n",
    "Podeu discutir les sol.lucions entre vosaltres, però l'entrega ha de ser personal. Tingueu en compte que si no feu els problemes per vosaltres mateixos, resoldre els de l'examen final serà pràcticament impossible.\n",
    "\n",
    "**IMPORTANT**: Expliqueu quines suposicions feu i perquè, i citeu clarament quins resultats dels que ja hem vist feu servir en les vostres solucions.\n",
    "\n",
    "\n",
    "## Conjunts\n",
    "\n",
    "Donats dos subconjunts arbitraris A i B, demostreu les següents identitats (recordeu que $A=B$ vol dir $A\\subseteq B$ i $B\\subseteq A$):\n",
    "\n",
    "* $B = \\left(B \\cap A\\right) \\cup \\left(B \\cap A^c\\right)$\n",
    "* $A \\cup B = A \\cup \\left(B \\cap A^c\\right)$\n",
    "* $B\\backslash A = B\\cap A^C$"
   ]
  },
  {
   "cell_type": "markdown",
   "metadata": {},
   "source": [
    "## Demostreu la llei DeMorgan per una col.lecció (potencialment incontable) de conjunts:\n",
    "\n",
    "Donada una col.lecció $\\left\\{A_{\\alpha}, \\alpha \\in \\Gamma\\right\\}$, tenim que \n",
    "$\\left(\\cup_{\\alpha \\in \\Gamma}A_{\\alpha}\\right)^c = \\cap_{\\alpha \\in \\Gamma}A_{\\alpha}^c$\n"
   ]
  },
  {
   "cell_type": "markdown",
   "metadata": {},
   "source": [
    "## Utilitzeu els Axiomes de Kolmogorov per demostrar que:\n",
    "\n",
    "1. $P\\left(\\emptyset\\right)=0$\n",
    "\n",
    "2. $P\\left(A\\right) \\leq 1$\n",
    "\n",
    "3. $P\\left(A^c\\right)=1-P\\left(A\\right)$"
   ]
  },
  {
   "cell_type": "markdown",
   "metadata": {},
   "source": [
    "## Propietats dels espais d'esdeveniments\n",
    "\n",
    "Demostreu si els següents espais d'esdeveniments (que anomenarem $\\mathcal{A}$) d'un espai mostral $\\Omega$ formen una $\\sigma$-àlgebra (tancats pel complementari, tancats per unió contable, contenen $\\emptyset$), o en cas que no ho siguin, expliqueu per què:\n",
    "\n",
    "1. $\\mathcal{A}=\\left\\{\\emptyset, \\Omega \\right\\}$\n",
    "2. Si $\\Omega = \\left\\{1, 2, \\cdots, n\\right\\}$, $\\mathcal{A}=2^{\\Omega}$ (conjunt potència)\n",
    "3. $\\mathcal{A} = \\mathcal{B} \\cap \\mathcal{C}$ on $\\mathcal{B},\\mathcal{C}$ són $\\sigma$-àlgebres\n",
    "4. Si $\\Omega = \\mathbb{R}$, $\\mathcal{A}=\\left\\{[a, b], a > b, a, b \\in \\mathbb{R}\\right\\}$"
   ]
  },
  {
   "cell_type": "markdown",
   "metadata": {},
   "source": [
    "## El problema dels aniversaris v2\n",
    "\n",
    "En una classe amb $n$ alumnes, quina és la probabilitat de que cap d'ells tingui el mateix aniversari que un altre alumne? Per quin valor d'$n$ tenim una probabilitat d'al menys 0.5 de que almenys 2 alumnes tinguin el mateix aniversari?"
   ]
  },
  {
   "cell_type": "markdown",
   "metadata": {},
   "source": [
    "## Desigualtat de Bonferroni\n",
    "\n",
    "La desigualtat de Bonferroni per dos esdeveniments $A, B$ estableix que:\n",
    "\n",
    "$P\\left(A \\cap B\\right) \\geq P\\left(A\\right) + P\\left(B\\right) - 1$\n",
    "\n",
    "És útil quan la probabilitat conjunta dels esdeveniments no és fàcil de calcular (per exemple quan aquests no són independents).\n",
    "\n",
    "1. Demostreu la desigualtat de Bonferroni\n",
    "\n",
    "2. Quina condició han de verificar $A, B$ perquè la desigualtat no sigui trivial, és a dir, ens serveixi per tenir una cota inferior no trivial de la probabilitat de $A \\cap B$?\n",
    "\n",
    "3. Demostreu la desigualtat de Bonferroni pel cas on volem acotar la probabilitat de la intersecció d'un nombre $n$ d'esdeveniments: $P\\left(\\cap_{i=1}^n A_i\\right) \\geq \\sum_{i=1}^n P\\left(A_i\\right) - (n - 1)$ (Pista: podeu fer servir algun dels resultats que ha hem vist a classe)\n",
    "\n",
    "4. Doneu un exemple d'un experiment i una col.lecció d'esdeveniments $A_i$ on la desigualtat de Bonferroni ens donaria una cota inferior útil (és a dir, no massa laxa)"
   ]
  },
  {
   "cell_type": "markdown",
   "metadata": {},
   "source": [
    "### Funcions de distribució cumulatives i la seva inversa\n",
    "\n",
    "Demostreu que les següents son f.d.c's vàlides i trobeu-ne $F_X^{-1}$:\n",
    "\n",
    "1. $F_X(x) = \\left\\{\\begin{array}{cc}0 & \\mbox{if } x <0 \\\\ 1- e^{-x} & \\mbox{if } x \\geq 0 \\end{array}\\right.$\n",
    "\n",
    "2. $F_X(x) = \\left\\{\\begin{array}{cc}e^{x}/2 & \\mbox{if } x <0 \\\\ 1/2 & \\mbox{if } 0 \\leq x < 1 \\\\ 1- e^{x}/4 &\\mbox{if } x \\geq 0 \\end{array}\\right.$"
   ]
  },
  {
   "cell_type": "markdown",
   "metadata": {},
   "source": [
    "## Marginals i independència\n",
    "\n",
    "Demostreu que existeixen dues variables de Bernouilli $X$ i $Y$ tals que $P(X)=P(Y)=p$ i que **no** són independents. Pista: Considereu $P(X|Y)$ i construiu un exemple."
   ]
  },
  {
   "cell_type": "markdown",
   "metadata": {},
   "source": [
    "## Tests grupals\n",
    "\n",
    "Suposeu que tenim un conjunt d'$N$ individus dels quals una proporció $p = \\frac{k}{N}$, on $k \\ll N$ està infectat amb una certa malaltia. El nostre objectiu és detectar els $k$ individus infectats amb el menor nombre de tests.\n",
    "\n",
    "Denominem per $T$ el nombre de tests que caldrà fer per detectar els $k$ individus infectats d'entre els $N$. Noteu que $T$ és una variable aleatòria.\n",
    "\n",
    "1. Quants tests ens caldrà fer de mitja en el cas que decidim testejar cada persona individualment, $E(T)$? Quants tests haurem de fer en el pitjor dels casos?\n",
    "\n",
    "2. Suposeu que ara dividim els $N$ individus en grups de $g$ individus cada un. (Suposem per simplicitat que $N$ és un múltiple de $g$). Definim un grup com a infectat si al menys un dels integrants està infectat. (a) Quina és la probabilitat de que un grup estigui infectat? (b) Definim com $N_g$ la variable aleatòria corresponent al nombre de grups que estarà infectat. Quina distribució té $N_g$? Quin és el nombre mig de grups infectats? \n",
    "\n",
    "3. Suposeu finalment que tenim un mètode per detectar si un grup està infectat amb un sol test. En cas que el grup no estigui infectat, podrem descartar els $g$ individus del grup. En cas que ho estigui, farem $g$ tests a cada un dels individus per trobar quins estan infectats i quins no. Definim com $T_g$ el nombre de tests que haurem de fer amb aquesta estratègia. Quin és el valor de $E(T_g)$? Com es compara amb $E(T)$ calculat al punt (1)?\n",
    "\n",
    "\n"
   ]
  }
 ],
 "metadata": {
  "kernelspec": {
   "display_name": "Python 3",
   "language": "python",
   "name": "python3"
  },
  "language_info": {
   "codemirror_mode": {
    "name": "ipython",
    "version": 3
   },
   "file_extension": ".py",
   "mimetype": "text/x-python",
   "name": "python",
   "nbconvert_exporter": "python",
   "pygments_lexer": "ipython3",
   "version": "3.7.4"
  }
 },
 "nbformat": 4,
 "nbformat_minor": 4
}
